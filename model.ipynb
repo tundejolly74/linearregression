{
 "cells": [
  {
   "cell_type": "code",
   "execution_count": 5,
   "metadata": {},
   "outputs": [
    {
     "name": "stdout",
     "output_type": "stream",
     "text": [
      " * Serving Flask app '__main__'\n",
      " * Debug mode: on\n"
     ]
    },
    {
     "name": "stderr",
     "output_type": "stream",
     "text": [
      "WARNING: This is a development server. Do not use it in a production deployment. Use a production WSGI server instead.\n",
      " * Running on http://127.0.0.1:5000\n",
      "Press CTRL+C to quit\n",
      " * Restarting with stat\n"
     ]
    },
    {
     "ename": "SystemExit",
     "evalue": "1",
     "output_type": "error",
     "traceback": [
      "An exception has occurred, use %tb to see the full traceback.\n",
      "\u001b[1;31mSystemExit\u001b[0m\u001b[1;31m:\u001b[0m 1\n"
     ]
    }
   ],
   "source": [
    "from flask import Flask, request, jsonify\n",
    "import pickle\n",
    "import numpy as np\n",
    "\n",
    "# Load the saved Linear Regression model\n",
    "with open('linear_regression_model.pkl', 'rb') as f:\n",
    "    lr_model = pickle.load(f)\n",
    "\n",
    "# Initialize the Flask app\n",
    "app = Flask(__name__)\n",
    "\n",
    "# Define the prediction route\n",
    "@app.route('/predict', methods=['POST'])\n",
    "def predict():\n",
    "    # Get data from the POST request\n",
    "    data = request.get_json(force=True)\n",
    "\n",
    "    # Extract features from input\n",
    "    features = np.array([data['Price'], data['Quantity'], data['Discount'],\n",
    "                         data['Order_Year'], data['Order_Month'], \n",
    "                         data['CompetitorPrice'], data['Elasticity'], \n",
    "                         data['CustomerSegment_Segment_B']])\n",
    "    \n",
    "    # Reshape the data for the model (1 sample, N features)\n",
    "    features = features.reshape(1, -1)\n",
    "\n",
    "    # Make the prediction using the Linear Regression model\n",
    "    prediction = lr_model.predict(features)\n",
    "\n",
    "    # Return the prediction result as JSON\n",
    "    return jsonify({'predicted_sales': prediction[0]})\n",
    "\n",
    "# Run the Flask app\n",
    "if __name__ == '__main__':\n",
    "    app.run(debug=True)\n"
   ]
  },
  {
   "cell_type": "code",
   "execution_count": 2,
   "metadata": {},
   "outputs": [
    {
     "name": "stdout",
     "output_type": "stream",
     "text": [
      "Note: you may need to restart the kernel to use updated packages.\n"
     ]
    }
   ],
   "source": [
    "pip freeze > requirements.txt"
   ]
  },
  {
   "cell_type": "code",
   "execution_count": 3,
   "metadata": {},
   "outputs": [
    {
     "name": "stdout",
     "output_type": "stream",
     "text": [
      "Requirement already satisfied: pip in c:\\users\\tundejolaosho\\appdata\\local\\programs\\python\\python312\\lib\\site-packages (24.2)Note: you may need to restart the kernel to use updated packages.\n",
      "\n"
     ]
    }
   ],
   "source": [
    "pip install --upgrade pip\n"
   ]
  },
  {
   "cell_type": "code",
   "execution_count": 4,
   "metadata": {},
   "outputs": [
    {
     "name": "stdout",
     "output_type": "stream",
     "text": [
      "Requirement already satisfied: asttokens==2.4.1 in c:\\users\\tundejolaosho\\appdata\\roaming\\python\\python312\\site-packages (from -r requirements.txt (line 1)) (2.4.1)\n",
      "Requirement already satisfied: blinker==1.8.2 in c:\\users\\tundejolaosho\\appdata\\local\\programs\\python\\python312\\lib\\site-packages (from -r requirements.txt (line 2)) (1.8.2)\n",
      "Requirement already satisfied: click==8.1.7 in c:\\users\\tundejolaosho\\appdata\\local\\programs\\python\\python312\\lib\\site-packages (from -r requirements.txt (line 3)) (8.1.7)\n",
      "Requirement already satisfied: colorama==0.4.6 in c:\\users\\tundejolaosho\\appdata\\roaming\\python\\python312\\site-packages (from -r requirements.txt (line 4)) (0.4.6)\n",
      "Requirement already satisfied: comm==0.2.2 in c:\\users\\tundejolaosho\\appdata\\roaming\\python\\python312\\site-packages (from -r requirements.txt (line 5)) (0.2.2)\n",
      "Requirement already satisfied: contourpy==1.3.0 in c:\\users\\tundejolaosho\\appdata\\local\\programs\\python\\python312\\lib\\site-packages (from -r requirements.txt (line 6)) (1.3.0)\n",
      "Requirement already satisfied: cycler==0.12.1 in c:\\users\\tundejolaosho\\appdata\\local\\programs\\python\\python312\\lib\\site-packages (from -r requirements.txt (line 7)) (0.12.1)\n",
      "Requirement already satisfied: debugpy==1.8.5 in c:\\users\\tundejolaosho\\appdata\\roaming\\python\\python312\\site-packages (from -r requirements.txt (line 8)) (1.8.5)\n",
      "Requirement already satisfied: decorator==5.1.1 in c:\\users\\tundejolaosho\\appdata\\roaming\\python\\python312\\site-packages (from -r requirements.txt (line 9)) (5.1.1)\n",
      "Requirement already satisfied: et-xmlfile==1.1.0 in c:\\users\\tundejolaosho\\appdata\\local\\programs\\python\\python312\\lib\\site-packages (from -r requirements.txt (line 10)) (1.1.0)\n",
      "Requirement already satisfied: executing==2.1.0 in c:\\users\\tundejolaosho\\appdata\\roaming\\python\\python312\\site-packages (from -r requirements.txt (line 11)) (2.1.0)\n",
      "Requirement already satisfied: Flask==3.0.3 in c:\\users\\tundejolaosho\\appdata\\local\\programs\\python\\python312\\lib\\site-packages (from -r requirements.txt (line 12)) (3.0.3)\n",
      "Requirement already satisfied: fonttools==4.53.1 in c:\\users\\tundejolaosho\\appdata\\local\\programs\\python\\python312\\lib\\site-packages (from -r requirements.txt (line 13)) (4.53.1)\n",
      "Requirement already satisfied: gunicorn==23.0.0 in c:\\users\\tundejolaosho\\appdata\\local\\programs\\python\\python312\\lib\\site-packages (from -r requirements.txt (line 14)) (23.0.0)\n",
      "Requirement already satisfied: ipykernel==6.29.5 in c:\\users\\tundejolaosho\\appdata\\roaming\\python\\python312\\site-packages (from -r requirements.txt (line 15)) (6.29.5)\n",
      "Requirement already satisfied: ipython==8.27.0 in c:\\users\\tundejolaosho\\appdata\\roaming\\python\\python312\\site-packages (from -r requirements.txt (line 16)) (8.27.0)\n",
      "Requirement already satisfied: itsdangerous==2.2.0 in c:\\users\\tundejolaosho\\appdata\\local\\programs\\python\\python312\\lib\\site-packages (from -r requirements.txt (line 17)) (2.2.0)\n",
      "Requirement already satisfied: jedi==0.19.1 in c:\\users\\tundejolaosho\\appdata\\roaming\\python\\python312\\site-packages (from -r requirements.txt (line 18)) (0.19.1)\n",
      "Requirement already satisfied: Jinja2==3.1.4 in c:\\users\\tundejolaosho\\appdata\\local\\programs\\python\\python312\\lib\\site-packages (from -r requirements.txt (line 19)) (3.1.4)\n",
      "Requirement already satisfied: joblib==1.4.2 in c:\\users\\tundejolaosho\\appdata\\local\\programs\\python\\python312\\lib\\site-packages (from -r requirements.txt (line 20)) (1.4.2)\n",
      "Requirement already satisfied: jupyter_client==8.6.2 in c:\\users\\tundejolaosho\\appdata\\roaming\\python\\python312\\site-packages (from -r requirements.txt (line 21)) (8.6.2)\n",
      "Requirement already satisfied: jupyter_core==5.7.2 in c:\\users\\tundejolaosho\\appdata\\roaming\\python\\python312\\site-packages (from -r requirements.txt (line 22)) (5.7.2)\n",
      "Requirement already satisfied: kiwisolver==1.4.7 in c:\\users\\tundejolaosho\\appdata\\local\\programs\\python\\python312\\lib\\site-packages (from -r requirements.txt (line 23)) (1.4.7)\n",
      "Requirement already satisfied: MarkupSafe==2.1.5 in c:\\users\\tundejolaosho\\appdata\\local\\programs\\python\\python312\\lib\\site-packages (from -r requirements.txt (line 24)) (2.1.5)\n",
      "Requirement already satisfied: matplotlib==3.9.2 in c:\\users\\tundejolaosho\\appdata\\local\\programs\\python\\python312\\lib\\site-packages (from -r requirements.txt (line 25)) (3.9.2)\n",
      "Requirement already satisfied: matplotlib-inline==0.1.7 in c:\\users\\tundejolaosho\\appdata\\roaming\\python\\python312\\site-packages (from -r requirements.txt (line 26)) (0.1.7)\n",
      "Requirement already satisfied: nest-asyncio==1.6.0 in c:\\users\\tundejolaosho\\appdata\\roaming\\python\\python312\\site-packages (from -r requirements.txt (line 27)) (1.6.0)\n",
      "Requirement already satisfied: numpy==2.1.1 in c:\\users\\tundejolaosho\\appdata\\local\\programs\\python\\python312\\lib\\site-packages (from -r requirements.txt (line 28)) (2.1.1)\n",
      "Requirement already satisfied: openpyxl==3.1.5 in c:\\users\\tundejolaosho\\appdata\\local\\programs\\python\\python312\\lib\\site-packages (from -r requirements.txt (line 29)) (3.1.5)\n",
      "Requirement already satisfied: packaging==24.1 in c:\\users\\tundejolaosho\\appdata\\roaming\\python\\python312\\site-packages (from -r requirements.txt (line 30)) (24.1)\n",
      "Requirement already satisfied: pandas==2.2.2 in c:\\users\\tundejolaosho\\appdata\\local\\programs\\python\\python312\\lib\\site-packages (from -r requirements.txt (line 31)) (2.2.2)\n",
      "Requirement already satisfied: parso==0.8.4 in c:\\users\\tundejolaosho\\appdata\\roaming\\python\\python312\\site-packages (from -r requirements.txt (line 32)) (0.8.4)\n",
      "Requirement already satisfied: pillow==10.4.0 in c:\\users\\tundejolaosho\\appdata\\local\\programs\\python\\python312\\lib\\site-packages (from -r requirements.txt (line 33)) (10.4.0)\n",
      "Requirement already satisfied: platformdirs==4.3.2 in c:\\users\\tundejolaosho\\appdata\\roaming\\python\\python312\\site-packages (from -r requirements.txt (line 34)) (4.3.2)\n",
      "Requirement already satisfied: prompt_toolkit==3.0.47 in c:\\users\\tundejolaosho\\appdata\\roaming\\python\\python312\\site-packages (from -r requirements.txt (line 35)) (3.0.47)\n",
      "Requirement already satisfied: psutil==6.0.0 in c:\\users\\tundejolaosho\\appdata\\roaming\\python\\python312\\site-packages (from -r requirements.txt (line 36)) (6.0.0)\n",
      "Requirement already satisfied: pure_eval==0.2.3 in c:\\users\\tundejolaosho\\appdata\\roaming\\python\\python312\\site-packages (from -r requirements.txt (line 37)) (0.2.3)\n",
      "Requirement already satisfied: Pygments==2.18.0 in c:\\users\\tundejolaosho\\appdata\\roaming\\python\\python312\\site-packages (from -r requirements.txt (line 38)) (2.18.0)\n",
      "Requirement already satisfied: pyparsing==3.1.4 in c:\\users\\tundejolaosho\\appdata\\local\\programs\\python\\python312\\lib\\site-packages (from -r requirements.txt (line 39)) (3.1.4)\n",
      "Requirement already satisfied: python-dateutil==2.9.0.post0 in c:\\users\\tundejolaosho\\appdata\\roaming\\python\\python312\\site-packages (from -r requirements.txt (line 40)) (2.9.0.post0)\n",
      "Requirement already satisfied: pytz==2024.2 in c:\\users\\tundejolaosho\\appdata\\local\\programs\\python\\python312\\lib\\site-packages (from -r requirements.txt (line 41)) (2024.2)\n",
      "Requirement already satisfied: pywin32==306 in c:\\users\\tundejolaosho\\appdata\\roaming\\python\\python312\\site-packages (from -r requirements.txt (line 42)) (306)\n",
      "Requirement already satisfied: pyzmq==26.2.0 in c:\\users\\tundejolaosho\\appdata\\roaming\\python\\python312\\site-packages (from -r requirements.txt (line 43)) (26.2.0)\n",
      "Requirement already satisfied: scikit-learn==1.5.2 in c:\\users\\tundejolaosho\\appdata\\local\\programs\\python\\python312\\lib\\site-packages (from -r requirements.txt (line 44)) (1.5.2)\n",
      "Requirement already satisfied: scipy==1.14.1 in c:\\users\\tundejolaosho\\appdata\\local\\programs\\python\\python312\\lib\\site-packages (from -r requirements.txt (line 45)) (1.14.1)\n",
      "Requirement already satisfied: seaborn==0.13.2 in c:\\users\\tundejolaosho\\appdata\\local\\programs\\python\\python312\\lib\\site-packages (from -r requirements.txt (line 46)) (0.13.2)\n",
      "Requirement already satisfied: six==1.16.0 in c:\\users\\tundejolaosho\\appdata\\roaming\\python\\python312\\site-packages (from -r requirements.txt (line 47)) (1.16.0)\n",
      "Requirement already satisfied: stack-data==0.6.3 in c:\\users\\tundejolaosho\\appdata\\roaming\\python\\python312\\site-packages (from -r requirements.txt (line 48)) (0.6.3)\n",
      "Requirement already satisfied: threadpoolctl==3.5.0 in c:\\users\\tundejolaosho\\appdata\\local\\programs\\python\\python312\\lib\\site-packages (from -r requirements.txt (line 49)) (3.5.0)\n",
      "Requirement already satisfied: tornado==6.4.1 in c:\\users\\tundejolaosho\\appdata\\roaming\\python\\python312\\site-packages (from -r requirements.txt (line 50)) (6.4.1)\n",
      "Requirement already satisfied: traitlets==5.14.3 in c:\\users\\tundejolaosho\\appdata\\roaming\\python\\python312\\site-packages (from -r requirements.txt (line 51)) (5.14.3)\n",
      "Requirement already satisfied: tzdata==2024.1 in c:\\users\\tundejolaosho\\appdata\\local\\programs\\python\\python312\\lib\\site-packages (from -r requirements.txt (line 52)) (2024.1)\n",
      "Requirement already satisfied: wcwidth==0.2.13 in c:\\users\\tundejolaosho\\appdata\\roaming\\python\\python312\\site-packages (from -r requirements.txt (line 53)) (0.2.13)\n",
      "Requirement already satisfied: Werkzeug==3.0.4 in c:\\users\\tundejolaosho\\appdata\\local\\programs\\python\\python312\\lib\\site-packages (from -r requirements.txt (line 54)) (3.0.4)\n",
      "Note: you may need to restart the kernel to use updated packages.\n"
     ]
    }
   ],
   "source": [
    "pip install -r requirements.txt"
   ]
  }
 ],
 "metadata": {
  "kernelspec": {
   "display_name": "Python 3",
   "language": "python",
   "name": "python3"
  },
  "language_info": {
   "codemirror_mode": {
    "name": "ipython",
    "version": 3
   },
   "file_extension": ".py",
   "mimetype": "text/x-python",
   "name": "python",
   "nbconvert_exporter": "python",
   "pygments_lexer": "ipython3",
   "version": "3.12.6"
  }
 },
 "nbformat": 4,
 "nbformat_minor": 2
}
